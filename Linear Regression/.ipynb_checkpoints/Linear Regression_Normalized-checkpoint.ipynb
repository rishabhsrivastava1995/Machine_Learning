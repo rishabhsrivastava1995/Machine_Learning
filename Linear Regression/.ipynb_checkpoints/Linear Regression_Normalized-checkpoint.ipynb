{
 "cells": [
  {
   "cell_type": "markdown",
   "metadata": {
    "nbpresent": {
     "id": "87824f1b-395a-4c50-9f3e-a81fbada33bf"
    }
   },
   "source": [
    "# Import Required Libraries"
   ]
  },
  {
   "cell_type": "code",
   "execution_count": 1,
   "metadata": {
    "collapsed": true,
    "nbpresent": {
     "id": "73f3c18c-7f02-4919-9326-2bdf319793ef"
    }
   },
   "outputs": [],
   "source": [
    "import pandas as pd\n",
    "import numpy as np\n",
    "import matplotlib.pyplot as plt\n",
    "import pickle"
   ]
  },
  {
   "cell_type": "markdown",
   "metadata": {
    "nbpresent": {
     "id": "8e2af444-9604-4991-8ffd-eaae369de000"
    }
   },
   "source": [
    "# Create a random linear function"
   ]
  },
  {
   "cell_type": "code",
   "execution_count": 2,
   "metadata": {
    "collapsed": false,
    "nbpresent": {
     "id": "86e7a383-9a2c-4809-beda-8a12de5ffd28"
    }
   },
   "outputs": [],
   "source": [
    "def create_random_linear_function(feature_size = 2, sample_size = 700):\n",
    "    theta = np.random.randint(-5, 5, feature_size+1)\n",
    "    X = np.random.randint(1, 50, sample_size*feature_size).reshape((sample_size, feature_size))\n",
    "    \n",
    "    df = pd.DataFrame(X, columns = ['x{}'.format(i+1) for i in range(feature_size)])\n",
    "    features = [None]*(feature_size+1)\n",
    "    features[1:] = df.columns\n",
    "    features[0] = 'ones'\n",
    "    df['ones'] = 1\n",
    "    \n",
    "    df = df[features]\n",
    "    df['y'] = np.dot(df, theta)\n",
    "    del df['ones']\n",
    "    \n",
    "    return theta, df"
   ]
  },
  {
   "cell_type": "markdown",
   "metadata": {
    "nbpresent": {
     "id": "b8172394-6a7b-4f91-89fb-da07ce443369"
    }
   },
   "source": [
    "# Write the dataframe and paramters onto a CSV file"
   ]
  },
  {
   "cell_type": "code",
   "execution_count": 3,
   "metadata": {
    "collapsed": false,
    "nbpresent": {
     "id": "0e5920ef-4001-4883-a012-0249607fb467"
    }
   },
   "outputs": [],
   "source": [
    "theta, df = create_random_linear_function()\n",
    "df.to_csv('linear_file_big.csv', sep=',', index=False)\n",
    "with open('linear_file_parameters_big.pkl', 'wb') as f:\n",
    "    pickle.dump(theta, f)"
   ]
  },
  {
   "cell_type": "markdown",
   "metadata": {
    "nbpresent": {
     "id": "472dc18f-b054-441c-b5bc-cdb006ac2c3c"
    }
   },
   "source": [
    "# Read the csv and extract features"
   ]
  },
  {
   "cell_type": "code",
   "execution_count": 4,
   "metadata": {
    "collapsed": false,
    "nbpresent": {
     "id": "e25b7d5d-2e44-42ed-b203-15a3d9a3141a"
    }
   },
   "outputs": [
    {
     "name": "stdout",
     "output_type": "stream",
     "text": [
      "   x1  x2   y\n",
      "0   9   5   8\n",
      "1   8   1  11\n",
      "2   5   3   6\n",
      "3   5   8   1\n",
      "4   4   3   5\n"
     ]
    }
   ],
   "source": [
    "df = pd.read_csv('linear_file.csv')\n",
    "print(df.head())\n",
    "n = df.columns.size\n",
    "df['ones'] = 1\n",
    "features = [None]*n\n",
    "features[0] = 'ones'\n",
    "features[1:] = df.columns[:n-1]\n"
   ]
  },
  {
   "cell_type": "markdown",
   "metadata": {
    "nbpresent": {
     "id": "a84edced-238e-4973-b2a0-f206a54fb38b"
    }
   },
   "source": [
    "# Create the cost function and gradient"
   ]
  },
  {
   "cell_type": "code",
   "execution_count": 24,
   "metadata": {
    "collapsed": true,
    "nbpresent": {
     "id": "68070ce8-0ca4-4c32-862e-27dee407444a"
    }
   },
   "outputs": [],
   "source": [
    "def cost(X, Y, theta):\n",
    "    return np.sum(np.power(np.dot(X, theta) - Y, 2))\n",
    "\n",
    "def gradient(X, Y, theta):\n",
    "    return np.dot(X.T, np.dot(X, theta) - Y)"
   ]
  },
  {
   "cell_type": "markdown",
   "metadata": {
    "nbpresent": {
     "id": "c7b12517-aa99-4fa6-b793-e08cc2c0a2cb"
    }
   },
   "source": [
    "# Create gradient descent"
   ]
  },
  {
   "cell_type": "code",
   "execution_count": 25,
   "metadata": {
    "collapsed": false,
    "nbpresent": {
     "id": "41cfaa5c-2d64-4c0b-b897-3bb890e308ff"
    }
   },
   "outputs": [],
   "source": [
    "def gradient_descent(X, Y, alpha = 0.03, iterations=10000, epsilon=1e-7, cost_function = cost, gradient_function = gradient):\n",
    "    m, n = X.shape\n",
    "    theta = np.random.randn(n)\n",
    "    converged = False\n",
    "    J = [0]\n",
    "    \n",
    "    count = 1\n",
    "    while count < iterations+1:\n",
    "        J.append(cost_function(X, Y, theta))\n",
    "        if(abs(J[count]-J[count-1]) <= epsilon):\n",
    "            converged = True\n",
    "            break\n",
    "        grad = gradient_function(X, Y, theta)\n",
    "        theta = theta - alpha * 1/m * grad\n",
    "        count += 1\n",
    "        \n",
    "    return (converged, count-1, J, theta)\n"
   ]
  },
  {
   "cell_type": "markdown",
   "metadata": {
    "nbpresent": {
     "id": "85ec6769-03c8-4490-9546-5d0cf2883382"
    }
   },
   "source": [
    "# Divide data into training and testing"
   ]
  },
  {
   "cell_type": "code",
   "execution_count": 26,
   "metadata": {
    "collapsed": true,
    "nbpresent": {
     "id": "9829db05-0d06-43d1-ad2b-09bce349b036"
    }
   },
   "outputs": [],
   "source": [
    "def train_test(data, split=(6, 1)):\n",
    "    a, b = split\n",
    "    m = data.shape[0]\n",
    "    train_size = m*a//(a+b)\n",
    "    data_train = data[:train_size]\n",
    "    data_test = data[train_size:]\n",
    "    return data_train, data_test"
   ]
  },
  {
   "cell_type": "markdown",
   "metadata": {
    "nbpresent": {
     "id": "28641076-095c-4140-95d7-bd21a9a08315"
    }
   },
   "source": [
    "# Run gradient descent on the data"
   ]
  },
  {
   "cell_type": "code",
   "execution_count": 27,
   "metadata": {
    "collapsed": false,
    "nbpresent": {
     "id": "56cad640-f82e-473a-b85a-79b7363e4901"
    }
   },
   "outputs": [
    {
     "name": "stdout",
     "output_type": "stream",
     "text": [
      "Converged in 2839 iterations\n",
      "Predicted theta: [ 3.99950147  1.00004366 -0.99995741]\n",
      "Actual theta   : [ 4  1 -1]\n"
     ]
    }
   ],
   "source": [
    "X_train, X_test = train_test(df[features])\n",
    "Y_train, Y_test = train_test(df['y'])\n",
    "\n",
    "converged, iterations, J, theta = gradient_descent(X_train, Y_train)\n",
    "result = \"Did not converge in {} iterations\".format(iterations)\n",
    "if converged:\n",
    "    result = \"Converged in {} iterations\".format(iterations)\n",
    "#theta = [float('{0:.2f}'.format(t)) for t in theta]\n",
    "\n",
    "theta_file = None\n",
    "with open('linear_file_parameters.pkl', 'rb') as f:\n",
    "    theta_file = pickle.load(f)\n",
    "print(result)\n",
    "print('Predicted theta:', theta)\n",
    "print('Actual theta   :', theta_file)"
   ]
  },
  {
   "cell_type": "markdown",
   "metadata": {
    "nbpresent": {
     "id": "3de860ed-5b72-43f9-b1db-34705c5d8221"
    }
   },
   "source": [
    "# Compare predicted and actual data"
   ]
  },
  {
   "cell_type": "code",
   "execution_count": 28,
   "metadata": {
    "collapsed": false,
    "nbpresent": {
     "id": "e91572a9-b9a5-448d-9a82-4f697f3c7f62"
    }
   },
   "outputs": [
    {
     "name": "stdout",
     "output_type": "stream",
     "text": [
      "Mean squared error:  2.7329166896728757e-08\n"
     ]
    },
    {
     "data": {
      "text/html": [
       "<div>\n",
       "<table border=\"1\" class=\"dataframe\">\n",
       "  <thead>\n",
       "    <tr style=\"text-align: right;\">\n",
       "      <th></th>\n",
       "      <th>Predicted Y</th>\n",
       "      <th>Actual Y</th>\n",
       "    </tr>\n",
       "  </thead>\n",
       "  <tbody>\n",
       "    <tr>\n",
       "      <th>0</th>\n",
       "      <td>7.000150</td>\n",
       "      <td>7</td>\n",
       "    </tr>\n",
       "    <tr>\n",
       "      <th>1</th>\n",
       "      <td>0.999715</td>\n",
       "      <td>1</td>\n",
       "    </tr>\n",
       "    <tr>\n",
       "      <th>2</th>\n",
       "      <td>7.000064</td>\n",
       "      <td>7</td>\n",
       "    </tr>\n",
       "    <tr>\n",
       "      <th>3</th>\n",
       "      <td>0.999802</td>\n",
       "      <td>1</td>\n",
       "    </tr>\n",
       "    <tr>\n",
       "      <th>4</th>\n",
       "      <td>1.999932</td>\n",
       "      <td>2</td>\n",
       "    </tr>\n",
       "  </tbody>\n",
       "</table>\n",
       "</div>"
      ],
      "text/plain": [
       "   Predicted Y  Actual Y\n",
       "0     7.000150         7\n",
       "1     0.999715         1\n",
       "2     7.000064         7\n",
       "3     0.999802         1\n",
       "4     1.999932         2"
      ]
     },
     "execution_count": 28,
     "metadata": {},
     "output_type": "execute_result"
    }
   ],
   "source": [
    "Y_pred = np.dot(X_test, theta)\n",
    "compare_df = pd.DataFrame(list(zip(Y_pred, Y_test)), columns= ['Predicted Y', 'Actual Y'])\n",
    "mse = np.sum(np.power(Y_pred-Y_test, 2))/Y_pred.size\n",
    "print('Mean squared error: ', mse)\n",
    "compare_df.head()"
   ]
  },
  {
   "cell_type": "code",
   "execution_count": null,
   "metadata": {
    "collapsed": true
   },
   "outputs": [],
   "source": []
  }
 ],
 "metadata": {
  "anaconda-cloud": {},
  "kernelspec": {
   "display_name": "Python [conda root]",
   "language": "python",
   "name": "conda-root-py"
  },
  "language_info": {
   "codemirror_mode": {
    "name": "ipython",
    "version": 3
   },
   "file_extension": ".py",
   "mimetype": "text/x-python",
   "name": "python",
   "nbconvert_exporter": "python",
   "pygments_lexer": "ipython3",
   "version": "3.5.2"
  },
  "nbpresent": {
   "slides": {
    "4bf69bae-f276-438e-b49d-e0aeebba8737": {
     "id": "4bf69bae-f276-438e-b49d-e0aeebba8737",
     "prev": null,
     "regions": {
      "0ce40106-2a0a-415b-935d-96e42925505e": {
       "attrs": {
        "height": 1,
        "width": 1,
        "x": 0,
        "y": 0
       },
       "id": "0ce40106-2a0a-415b-935d-96e42925505e"
      }
     }
    }
   },
   "themes": {}
  }
 },
 "nbformat": 4,
 "nbformat_minor": 2
}
