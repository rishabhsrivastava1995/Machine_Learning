{
 "cells": [
  {
   "cell_type": "markdown",
   "metadata": {},
   "source": [
    "# Import Required Libraries"
   ]
  },
  {
   "cell_type": "code",
   "execution_count": 1,
   "metadata": {
    "collapsed": true
   },
   "outputs": [],
   "source": [
    "import pandas as pd\n",
    "import numpy as np\n",
    "import matplotlib.pyplot as plt\n",
    "import pickle"
   ]
  },
  {
   "cell_type": "markdown",
   "metadata": {},
   "source": [
    "# Create a random linear function"
   ]
  },
  {
   "cell_type": "code",
   "execution_count": 2,
   "metadata": {
    "collapsed": false
   },
   "outputs": [],
   "source": [
    "def create_random_linear_function(feature_size = 2, sample_size = 700):\n",
    "    theta = np.random.randint(-5, 5, feature_size+1)\n",
    "    X = np.random.randint(1, 10, sample_size*feature_size).reshape((sample_size, feature_size))\n",
    "    \n",
    "    df = pd.DataFrame(X, columns = ['x{}'.format(i+1) for i in range(feature_size)])\n",
    "    features = [None]*(feature_size+1)\n",
    "    features[1:] = df.columns\n",
    "    features[0] = 'ones'\n",
    "    df['ones'] = 1\n",
    "    \n",
    "    df = df[features]\n",
    "    df['y'] = np.dot(df, theta)\n",
    "    del df['ones']\n",
    "    \n",
    "    return theta, df"
   ]
  },
  {
   "cell_type": "markdown",
   "metadata": {},
   "source": [
    "# Write the dataframe and paramters onto a CSV file"
   ]
  },
  {
   "cell_type": "code",
   "execution_count": 3,
   "metadata": {
    "collapsed": false
   },
   "outputs": [],
   "source": [
    "theta, df = create_random_linear_function()\n",
    "df.to_csv('linear_file.csv', sep=',', index=False)\n",
    "with open('linear_file_parameters.pkl', 'wb') as f:\n",
    "    pickle.dump(theta, f)"
   ]
  },
  {
   "cell_type": "markdown",
   "metadata": {},
   "source": [
    "# Read the csv and extract features"
   ]
  },
  {
   "cell_type": "code",
   "execution_count": 4,
   "metadata": {
    "collapsed": false
   },
   "outputs": [],
   "source": [
    "df = pd.read_csv('linear_file.csv')\n",
    "n = df.columns.size\n",
    "df['ones'] = 1\n",
    "features = [None]*n\n",
    "features[0] = 'ones'\n",
    "features[1:] = df.columns[:n-1]"
   ]
  },
  {
   "cell_type": "markdown",
   "metadata": {},
   "source": [
    "# Create the cost function and gradient"
   ]
  },
  {
   "cell_type": "code",
   "execution_count": 5,
   "metadata": {
    "collapsed": true
   },
   "outputs": [],
   "source": [
    "def cost(X, Y, theta):\n",
    "    return np.sum(np.power(np.dot(X, theta) - Y, 2))\n",
    "\n",
    "def gradient(X, Y, theta):\n",
    "    return np.dot(X.T, np.dot(X, theta) - Y)"
   ]
  },
  {
   "cell_type": "markdown",
   "metadata": {},
   "source": [
    "# Create gradient descent"
   ]
  },
  {
   "cell_type": "code",
   "execution_count": 6,
   "metadata": {
    "collapsed": false
   },
   "outputs": [],
   "source": [
    "def gradient_descent(X, Y, alpha = 0.03, iterations=10000, epsilon=1e-7, cost_function = cost, gradient_function = gradient):\n",
    "    m, n = X.shape\n",
    "    theta = np.random.randn(n)\n",
    "    converged = False\n",
    "    J = [0]\n",
    "    \n",
    "    count = 1\n",
    "    while count < iterations+1:\n",
    "        J.append(cost_function(X, Y, theta))\n",
    "        if(abs(J[count]-J[count-1]) <= epsilon):\n",
    "            converged = True\n",
    "            break\n",
    "        grad = gradient_function(X, Y, theta)\n",
    "        theta = theta - alpha * 1/m * grad\n",
    "        count += 1\n",
    "        \n",
    "    return (converged, count-1, J, theta)\n"
   ]
  },
  {
   "cell_type": "markdown",
   "metadata": {},
   "source": [
    "# Divide data into training and testing"
   ]
  },
  {
   "cell_type": "code",
   "execution_count": 7,
   "metadata": {
    "collapsed": true
   },
   "outputs": [],
   "source": [
    "def train_test(data, split=(6, 1)):\n",
    "    a, b = split\n",
    "    m = data.shape[0]\n",
    "    train_size = m*a//(a+b)\n",
    "    data_train = data[:train_size]\n",
    "    data_test = data[train_size:]\n",
    "    return data_train, data_test"
   ]
  },
  {
   "cell_type": "markdown",
   "metadata": {},
   "source": [
    "# Run gradient descent on the data"
   ]
  },
  {
   "cell_type": "code",
   "execution_count": 12,
   "metadata": {
    "collapsed": false
   },
   "outputs": [
    {
     "name": "stdout",
     "output_type": "stream",
     "text": [
      "Converged in 2747 iterations\n",
      "Predicted theta: [-3.99955663  1.99996012  0.99996135]\n",
      "Actual theta   : [-4  2  1]\n"
     ]
    }
   ],
   "source": [
    "X_train, X_test = train_test(df[features])\n",
    "Y_train, Y_test = train_test(df['y'])\n",
    "\n",
    "converged, iterations, J, theta = gradient_descent(X_train, Y_train)\n",
    "result = \"Did not converge in {} iterations\".format(iterations)\n",
    "if converged:\n",
    "    result = \"Converged in {} iterations\".format(iterations)\n",
    "#theta = [float('{0:.2f}'.format(t)) for t in theta]\n",
    "\n",
    "theta_file = None\n",
    "with open('linear_file_parameters.pkl', 'rb') as f:\n",
    "    theta_file = pickle.load(f)\n",
    "print(result)\n",
    "print('Predicted theta:', theta)\n",
    "print('Actual theta   :', theta_file)"
   ]
  },
  {
   "cell_type": "markdown",
   "metadata": {},
   "source": [
    "# Compare predicted and actual data"
   ]
  },
  {
   "cell_type": "code",
   "execution_count": 13,
   "metadata": {
    "collapsed": false
   },
   "outputs": [
    {
     "name": "stdout",
     "output_type": "stream",
     "text": [
      "Mean squared error:  2.5424207153184955e-08\n"
     ]
    },
    {
     "data": {
      "text/html": [
       "<div>\n",
       "<table border=\"1\" class=\"dataframe\">\n",
       "  <thead>\n",
       "    <tr style=\"text-align: right;\">\n",
       "      <th></th>\n",
       "      <th>Predicted Y</th>\n",
       "      <th>Actual Y</th>\n",
       "    </tr>\n",
       "  </thead>\n",
       "  <tbody>\n",
       "    <tr>\n",
       "      <th>0</th>\n",
       "      <td>17.999930</td>\n",
       "      <td>18</td>\n",
       "    </tr>\n",
       "    <tr>\n",
       "      <th>1</th>\n",
       "      <td>1.000288</td>\n",
       "      <td>1</td>\n",
       "    </tr>\n",
       "    <tr>\n",
       "      <th>2</th>\n",
       "      <td>13.999972</td>\n",
       "      <td>14</td>\n",
       "    </tr>\n",
       "    <tr>\n",
       "      <th>3</th>\n",
       "      <td>9.000091</td>\n",
       "      <td>9</td>\n",
       "    </tr>\n",
       "    <tr>\n",
       "      <th>4</th>\n",
       "      <td>15.000008</td>\n",
       "      <td>15</td>\n",
       "    </tr>\n",
       "  </tbody>\n",
       "</table>\n",
       "</div>"
      ],
      "text/plain": [
       "   Predicted Y  Actual Y\n",
       "0    17.999930        18\n",
       "1     1.000288         1\n",
       "2    13.999972        14\n",
       "3     9.000091         9\n",
       "4    15.000008        15"
      ]
     },
     "execution_count": 13,
     "metadata": {},
     "output_type": "execute_result"
    }
   ],
   "source": [
    "Y_pred = np.dot(X_test, theta)\n",
    "compare_df = pd.DataFrame(list(zip(Y_pred, Y_test)), columns= ['Predicted Y', 'Actual Y'])\n",
    "mse = np.sum(np.power(Y_pred-Y_test, 2))/Y_pred.size\n",
    "print('Mean squared error: ', mse)\n",
    "compare_df.head()"
   ]
  }
 ],
 "metadata": {
  "anaconda-cloud": {},
  "kernelspec": {
   "display_name": "Python [conda root]",
   "language": "python",
   "name": "conda-root-py"
  },
  "language_info": {
   "codemirror_mode": {
    "name": "ipython",
    "version": 3
   },
   "file_extension": ".py",
   "mimetype": "text/x-python",
   "name": "python",
   "nbconvert_exporter": "python",
   "pygments_lexer": "ipython3",
   "version": "3.5.2"
  }
 },
 "nbformat": 4,
 "nbformat_minor": 2
}
